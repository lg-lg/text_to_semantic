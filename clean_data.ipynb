{
 "cells": [
  {
   "cell_type": "code",
   "execution_count": 1,
   "id": "ec706e8a-669f-4a88-a94c-750d2d056c09",
   "metadata": {
    "pycharm": {
     "name": "#%%\n"
    }
   },
   "outputs": [
    {
     "name": "stderr",
     "output_type": "stream",
     "text": [
      "2023-09-27 10:27:38 | INFO | fairseq.tasks.text_to_speech | Please install tensorboardX: pip install tensorboardX\n"
     ]
    }
   ],
   "source": [
    "import torchaudio\n",
    "from hubert_kmeans import HubertWithKmeans\n",
    "import numpy as np\n",
    "from pathlib import Path\n",
    "from tqdm import tqdm\n",
    "import os\n",
    "import sys\n",
    "\n",
    "folder_list = ['/data4/leishun/processed_data/speech_vad_result']\n",
    "suffix = '.npy'\n",
    "file_list = []\n",
    "for folder in folder_list:\n",
    "    folder = Path(folder)\n",
    "    path = [*folder.rglob(f'*{suffix}')]\n",
    "    file_list.extend(path)"
   ]
  },
  {
   "cell_type": "code",
   "execution_count": 2,
   "id": "2b80fa83-5e9d-493b-af85-c8ab1af762b1",
   "metadata": {
    "pycharm": {
     "name": "#%%\n"
    }
   },
   "outputs": [
    {
     "data": {
      "text/plain": [
       "374963"
      ]
     },
     "execution_count": 2,
     "metadata": {},
     "output_type": "execute_result"
    }
   ],
   "source": [
    "len(file_list)"
   ]
  },
  {
   "cell_type": "code",
   "execution_count": 4,
   "id": "c3d18d51-d2ca-4c5b-8736-6cb509ec2599",
   "metadata": {
    "pycharm": {
     "name": "#%%\n"
    }
   },
   "outputs": [
    {
     "name": "stderr",
     "output_type": "stream",
     "text": [
      "100%|███████████████████████████████████████████████████████████████████████████████████████████████████████████████████████████████████████| 374963/374963 [05:10<00:00, 1208.39it/s]\n"
     ]
    }
   ],
   "source": [
    "vad_results = []\n",
    "for file in tqdm(file_list):\n",
    "    result = np.load(file)\n",
    "    vad_results.append(result)\n",
    "import numpy as np\n",
    "from multiprocessing import Pool\n",
    "\n",
    "def load_npy(file_path):\n",
    "    return np.load(file_path)\n",
    "\n",
    "\n",
    "with Pool(processes=32) as pool:  # 创建一个包含4个进程的进程池\n",
    "    data_list = pool.map(load_npy, file_list)\n"
   ]
  },
  {
   "cell_type": "code",
   "execution_count": 5,
   "id": "0b45f551-7f30-4081-840e-a31c4c700ed7",
   "metadata": {
    "pycharm": {
     "name": "#%%\n"
    }
   },
   "outputs": [
    {
     "name": "stderr",
     "output_type": "stream",
     "text": [
      "100%|█████████████████████████████████████████████████████████████████████████████████████████████████████████████████████████████████████| 374963/374963 [00:00<00:00, 600295.28it/s]\n"
     ]
    }
   ],
   "source": [
    "rates = []\n",
    "sils = []\n",
    "starts = []\n",
    "for result in tqdm(data_list):\n",
    "    start = result[0,0]\n",
    "    starts.append(start)   \n",
    "    end = result[-1,-1]\n",
    "    duration = (end-start)\n",
    "    cnt = 0\n",
    "    for i in range(result.shape[0]):\n",
    "        cnt += result[i,1]-result[i,0]\n",
    "    if result.shape[0]>1:\n",
    "        for i in range(result.shape[0]-1):\n",
    "            sils.append(result[i+1,0]-result[i,1])\n",
    "    rate = cnt/duration\n",
    "    rates.append(rate)"
   ]
  },
  {
   "cell_type": "code",
   "execution_count": 7,
   "id": "adc5e86a-8a06-48fe-85ab-75fd058d8e1f",
   "metadata": {
    "pycharm": {
     "name": "#%%\n"
    }
   },
   "outputs": [],
   "source": [
    "rates = np.array(rates)\n",
    "sils = np.array(sils)\n",
    "starts = np.array(starts)"
   ]
  },
  {
   "cell_type": "code",
   "execution_count": 41,
   "id": "6af8e68b-5a30-4305-836c-8855edfe9d1a",
   "metadata": {
    "pycharm": {
     "name": "#%%\n"
    }
   },
   "outputs": [
    {
     "data": {
      "text/plain": [
       "(374963,)"
      ]
     },
     "execution_count": 41,
     "metadata": {},
     "output_type": "execute_result"
    }
   ],
   "source": [
    "rates.shape"
   ]
  },
  {
   "cell_type": "code",
   "execution_count": 47,
   "id": "f27cf9aa-42e6-4a23-8777-cf1c83753708",
   "metadata": {
    "pycharm": {
     "name": "#%%\n"
    }
   },
   "outputs": [
    {
     "data": {
      "text/plain": [
       "6851"
      ]
     },
     "execution_count": 47,
     "metadata": {},
     "output_type": "execute_result"
    }
   ],
   "source": [
    "cnt = 0\n",
    "for i in range(rates.shape[0]):\n",
    "    if rates[i] < 0.85:\n",
    "        cnt += 1\n",
    "cnt"
   ]
  },
  {
   "cell_type": "code",
   "execution_count": 40,
   "id": "cf4e94a2-6cfe-4bdc-a856-3afe4a5a481b",
   "metadata": {
    "pycharm": {
     "name": "#%%\n"
    }
   },
   "outputs": [
    {
     "data": {
      "image/png": "[encoded data removed]",
      "text/plain": [
       "<Figure size 640x480 with 1 Axes>"
      ]
     },
     "metadata": {},
     "output_type": "display_data"
    }
   ],
   "source": [
    "import matplotlib.pyplot as plt\n",
    "import numpy as np\n",
    "\n",
    "\n",
    "# 绘制直方图\n",
    "plt.hist(rates, bins=100, color='skyblue', alpha=0.8)\n",
    "\n",
    "# 显示图表\n",
    "plt.show()"
   ]
  },
  {
   "cell_type": "code",
   "execution_count": null,
   "id": "2223c327-1bca-4724-a497-c8cc8e31c34e",
   "metadata": {
    "pycharm": {
     "name": "#%%\n"
    }
   },
   "outputs": [],
   "source": []
  },
  {
   "cell_type": "code",
   "execution_count": null,
   "id": "8f39ea6c-f13c-4074-8ca4-7de864e71278",
   "metadata": {
    "pycharm": {
     "name": "#%%\n"
    }
   },
   "outputs": [],
   "source": []
  }
 ],
 "metadata": {
  "kernelspec": {
   "display_name": "pytorch",
   "language": "python",
   "name": "torch2"
  },
  "language_info": {
   "codemirror_mode": {
    "name": "ipython",
    "version": 3
   },
   "file_extension": ".py",
   "mimetype": "text/x-python",
   "name": "python",
   "nbconvert_exporter": "python",
   "pygments_lexer": "ipython3",
   "version": "3.9.17"
  }
 },
 "nbformat": 4,
 "nbformat_minor": 5
}