{
 "cells": [
  {
   "cell_type": "code",
   "execution_count": 1,
   "id": "f8c704d6-d54b-4607-b7cf-368280342970",
   "metadata": {
    "pycharm": {
     "name": "#%%\n"
    }
   },
   "outputs": [
    {
     "name": "stdout",
     "output_type": "stream",
     "text": [
      "{'utt': 'Xhr3e5y_fvw-0', 'start': 0.0, 'end': 3.48, 'text': '<SIL>', 'wav': '/data4/music-corpus/yt-best/separated_opus/htdemucs/Xhr3e5y_fvw/vocals.opus', 'dur': 3.48}\n",
      "{'utt': 'Xhr3e5y_fvw-1', 'start': 3.48, 'end': 7.33, 'text': '<SIL> ♪ OOH MMM ♪', 'wav': '/data4/music-corpus/yt-best/separated_opus/htdemucs/Xhr3e5y_fvw/vocals.opus', 'dur': 3.85}\n",
      "{'utt': 'Xhr3e5y_fvw-2', 'start': 7.33, 'end': 10.61, 'text': '<SIL> ♪ YEAH ♪', 'wav': '/data4/music-corpus/yt-best/separated_opus/htdemucs/Xhr3e5y_fvw/vocals.opus', 'dur': 3.2799999999999994}\n",
      "{'utt': 'Xhr3e5y_fvw-3', 'start': 10.61, 'end': 12.81, 'text': '♪ AY AY ♪', 'wav': '/data4/music-corpus/yt-best/separated_opus/htdemucs/Xhr3e5y_fvw/vocals.opus', 'dur': 2.200000000000001}\n",
      "{'utt': 'Xhr3e5y_fvw-4', 'start': 12.81, 'end': 16.0, 'text': '♪ WAKE UP TO THE SUNLIGHT ♪ ♪ CREEPING THROUGH THE WINDOW ♪', 'wav': '/data4/music-corpus/yt-best/separated_opus/htdemucs/Xhr3e5y_fvw/vocals.opus', 'dur': 3.1899999999999995}\n",
      "{'utt': 'Xhr3e5y_fvw-5', 'start': 16.0, 'end': 17.72, 'text': '♪ GLOWING ON YOUR BODY ♪', 'wav': '/data4/music-corpus/yt-best/separated_opus/htdemucs/Xhr3e5y_fvw/vocals.opus', 'dur': 1.7199999999999989}\n",
      "{'utt': 'Xhr3e5y_fvw-6', 'start': 17.72, 'end': 22.69, 'text': \"♪ CAN WE KEEP IT SIMPLE ♪ ♪ I NEED MORE THAN ONE NIGHT ♪ ♪ WHAT YOU THINK I'M HERE FOR ♪\", 'wav': '/data4/music-corpus/yt-best/separated_opus/htdemucs/Xhr3e5y_fvw/vocals.opus', 'dur': 4.970000000000002}\n",
      "{'utt': 'Xhr3e5y_fvw-7', 'start': 22.69, 'end': 35.86, 'text': \"♪ YOU KNOW THAT YOU GOT ME ♪ ♪ BEAT IS TO THE TEMPO ♪ ♪ CAN WE CUT RIGHT TO THE CHASE (CHASE) ♪ ♪ I'M SOMEONE WITH COMPLICATED TASTE ♪ <SIL> ♪ YOU CAN FINISH FIRST THIS AIN'T A RACE ♪ <SIL> ♪ IMMA LOCK IT UP ♪\", 'wav': '/data4/music-corpus/yt-best/separated_opus/htdemucs/Xhr3e5y_fvw/vocals.opus', 'dur': 13.169999999999998}\n",
      "{'utt': 'Xhr3e5y_fvw-8', 'start': 35.86, 'end': 37.67, 'text': '♪ GIRL LEAD THE WAY ♪', 'wav': '/data4/music-corpus/yt-best/separated_opus/htdemucs/Xhr3e5y_fvw/vocals.opus', 'dur': 1.8100000000000023}\n",
      "{'utt': 'Xhr3e5y_fvw-9', 'start': 37.67, 'end': 41.8, 'text': \"♪ YOU KNOW WHAT I'M SAYING ♪ ♪ GIRL I NOTICE YOU'RE AFRAID ♪\", 'wav': '/data4/music-corpus/yt-best/separated_opus/htdemucs/Xhr3e5y_fvw/vocals.opus', 'dur': 4.1299999999999955}\n"
     ]
    }
   ],
   "source": [
    "import json\n",
    "\n",
    "# 存放解析后的 JSON 数据\n",
    "data_list = []\n",
    "\n",
    "with open('datasets/data.segment.json', 'r') as f:\n",
    "    for line in f:\n",
    "        data = json.loads(line)\n",
    "        data_list.append(data)\n",
    "\n",
    "# 打印读取到的数据\n",
    "for item in data_list[:10]:\n",
    "    print(item)"
   ]
  },
  {
   "cell_type": "code",
   "execution_count": 2,
   "id": "a71d2d9d-802a-4ab9-817e-3b342e8d0a54",
   "metadata": {
    "pycharm": {
     "name": "#%%\n"
    }
   },
   "outputs": [
    {
     "data": {
      "text/plain": [
       "932773"
      ]
     },
     "execution_count": 2,
     "metadata": {},
     "output_type": "execute_result"
    }
   ],
   "source": [
    "len(data_list)"
   ]
  },
  {
   "cell_type": "code",
   "execution_count": 4,
   "id": "bfb208ad-1faf-4e70-8493-b707d3af550d",
   "metadata": {
    "pycharm": {
     "name": "#%%\n"
    }
   },
   "outputs": [],
   "source": [
    "for data in data_list:\n",
    "    data['text'] = data['text'].replace('♪♪♪','♪').replace('♪♪','♪').replace('♪ ♪','♪').replace('♪ ♪','♪')\n",
    "for data in data_list:\n",
    "    data['text'] = data['text'].replace('♪♪♪','♪').replace('♪♪','♪').replace('♪ ♪','♪').replace('♪ ♪','♪')\n",
    "clean_data = []\n",
    "for data in data_list:\n",
    "    if data['text'].count('♪') ==1 or data['text'].count('♪') ==0:\n",
    "        continue\n",
    "    clean_data.append(data)"
   ]
  },
  {
   "cell_type": "code",
   "execution_count": 5,
   "id": "aecca7e6-2746-477a-99a7-4bf17d61252f",
   "metadata": {
    "pycharm": {
     "name": "#%%\n"
    }
   },
   "outputs": [],
   "source": [
    "import re \n",
    "def replace_middle_notes(input_str):\n",
    "    input_str = input_str.strip()\n",
    "    # 移除首部的<SIL>\n",
    "    if input_str.startswith('<SIL>'):\n",
    "        input_str = input_str[len('<SIL>'):]\n",
    "\n",
    "    # 移除尾部的<SIL>\n",
    "    if input_str.endswith('<SIL>'):\n",
    "        input_str = input_str[:-len('<SIL>')]\n",
    "\n",
    "    # 首先找到第一个和最后一个♪\n",
    "    first_note = input_str.find('♪')\n",
    "    last_note = input_str.rfind('♪')\n",
    "    \n",
    "    # 如果没有找到，或只有一个，直接返回原字符串\n",
    "    if first_note == -1 or first_note == last_note:\n",
    "        print(input_str)\n",
    "    \n",
    "    # 将中间部分分离出来\n",
    "    middle = input_str[first_note+1:last_note]\n",
    "    \n",
    "    # 将中间部分的♪替换为，\n",
    "    middle_replaced = re.sub('♪', ',', middle)\n",
    "    \n",
    "    # 重新组合字符串\n",
    "    return input_str[:first_note+1] + middle_replaced + input_str[last_note:]\n",
    "\n",
    "for data in clean_data:\n",
    "    data['text'] = replace_middle_notes(data['text'])"
   ]
  },
  {
   "cell_type": "code",
   "execution_count": 7,
   "id": "abcd3b81-558e-46a1-9ba3-4773a7ea01af",
   "metadata": {
    "pycharm": {
     "name": "#%%\n"
    }
   },
   "outputs": [],
   "source": [
    "# 清除开头的特殊符号\n",
    "fuhao = ['-']\n",
    "for data in clean_data:\n",
    "    data['text'] = data['text'].strip()\n",
    "    for fuhao in fuhao:\n",
    "        if data['text'].startswith(fuhao):\n",
    "            data['text'] = data['text'][len(fuhao):]\n",
    "            data['text'] = data['text'].strip()"
   ]
  },
  {
   "cell_type": "code",
   "execution_count": 8,
   "id": "f2463660-06a8-49bf-87f2-ddf5eaf7da29",
   "metadata": {
    "pycharm": {
     "name": "#%%\n"
    }
   },
   "outputs": [
    {
     "data": {
      "text/plain": [
       "839213"
      ]
     },
     "execution_count": 8,
     "metadata": {},
     "output_type": "execute_result"
    }
   ],
   "source": [
    "len(clean_data)"
   ]
  },
  {
   "cell_type": "code",
   "execution_count": 9,
   "id": "0c41a31a-ad78-43d4-aa72-930a013959c3",
   "metadata": {
    "pycharm": {
     "name": "#%%\n"
    }
   },
   "outputs": [],
   "source": [
    "vocal_data = []\n",
    "cnt = 0\n",
    "for data in clean_data:\n",
    "    s = data['text']\n",
    "    if not (s.startswith('♪') and s.endswith('♪')):\n",
    "        continue\n",
    "    vocal_data.append(data)"
   ]
  },
  {
   "cell_type": "code",
   "execution_count": 10,
   "id": "951ae4d3-5843-4ae7-a2a5-27a429ed0c7a",
   "metadata": {
    "pycharm": {
     "name": "#%%\n"
    }
   },
   "outputs": [
    {
     "data": {
      "text/plain": [
       "833737"
      ]
     },
     "execution_count": 10,
     "metadata": {},
     "output_type": "execute_result"
    }
   ],
   "source": [
    "len(vocal_data)"
   ]
  },
  {
   "cell_type": "code",
   "execution_count": 12,
   "id": "d4a64954-fcc8-4b8d-945b-06716f4bb9a2",
   "metadata": {
    "pycharm": {
     "name": "#%%\n"
    }
   },
   "outputs": [
    {
     "name": "stdout",
     "output_type": "stream",
     "text": [
      "833737\n"
     ]
    },
    {
     "name": "stderr",
     "output_type": "stream",
     "text": [
      "100%|███████████████████████████████████████████████████████████████████████████████████████████████████████████████████████████████████████| 833737/833737 [01:42<00:00, 8160.55it/s]\n"
     ]
    },
    {
     "name": "stdout",
     "output_type": "stream",
     "text": [
      "741917\n"
     ]
    }
   ],
   "source": [
    "import os\n",
    "from pathlib import Path\n",
    "import numpy as np\n",
    "import numpy as np\n",
    "from multiprocessing import Pool\n",
    "from tqdm import tqdm\n",
    "def check_data(data):\n",
    "    # print(data)\n",
    "    result_path = os.path.join('/data4/leishun/processed_data/vocal_vad_result',data['utt']+'.npy')\n",
    "    if not Path(result_path).exists():\n",
    "        return None\n",
    "    result = np.load(result_path)\n",
    "    # print(result)\n",
    "    s = result[0,0]/1000\n",
    "    e = result[-1,-1]/1000\n",
    "    # 确定真正的起点和终点\n",
    "    data['start'] = data['start'] + max(0,s-0.1)\n",
    "    data['end'] = min(data['start']+e+0.1,data['end'])\n",
    "    data['dur'] = data['end'] - data['start']\n",
    "    \n",
    "    \n",
    "    # 丢掉平均phone>2的\n",
    "    text = data['text']\n",
    "    text = text.replace('♪', '')\n",
    "    cleaned_text = re.sub(r'\\[.*?\\]|\\(.*?\\)|\\{.*?\\}|\\<.*?\\>', '', text)\n",
    "    cleaned_text = re.sub(r' +', ' ', cleaned_text)\n",
    "    split_text = cleaned_text.strip().split(' ')\n",
    "    cnt = 0\n",
    "    for t in split_text:\n",
    "        if t != '':\n",
    "            cnt += 1\n",
    "    if cnt == 0:\n",
    "        return None\n",
    "    if float(data['dur'])/cnt > 2:\n",
    "        return None\n",
    "    \n",
    "    # 丢掉内部静音占比超过15%的\n",
    "    duration = result[-1,-1] - result[0,0]\n",
    "    cnt = 0\n",
    "    for i in range(result.shape[0]):\n",
    "        cnt += result[i,1]-result[i,0]\n",
    "    rate = cnt/duration\n",
    "    if rate<0.85:    \n",
    "        return None\n",
    "    # print(data)\n",
    "    return data\n",
    "\n",
    "# datas = []\n",
    "# for data in vocal_data[:50]:\n",
    "#     d = check_data(data)\n",
    "#     if d is not None:\n",
    "#         datas.append(d)\n",
    "# print(len(datas))\n",
    "\n",
    "print(len(vocal_data))\n",
    "with Pool(processes=32) as pool:  # 创建一个包含4个进程的进程池\n",
    "    datas = list(tqdm(pool.imap(check_data, vocal_data), total=len(vocal_data)))\n",
    "\n",
    "clean_datas = []\n",
    "for data in datas:\n",
    "    if data is not None:\n",
    "        clean_datas.append(data)\n",
    "print(len(clean_datas))"
   ]
  },
  {
   "cell_type": "code",
   "execution_count": 13,
   "id": "2d01c637-5e8a-4d30-84e1-05df3787603a",
   "metadata": {
    "pycharm": {
     "name": "#%%\n"
    }
   },
   "outputs": [
    {
     "data": {
      "text/plain": [
       "[{'utt': 'Xhr3e5y_fvw-1',\n",
       "  'start': 3.48,\n",
       "  'end': 7.33,\n",
       "  'text': '♪ OOH MMM ♪',\n",
       "  'wav': '/data4/music-corpus/yt-best/separated_opus/htdemucs/Xhr3e5y_fvw/vocals.opus',\n",
       "  'dur': 3.85},\n",
       " {'utt': 'Xhr3e5y_fvw-3',\n",
       "  'start': 10.61,\n",
       "  'end': 12.81,\n",
       "  'text': '♪ AY AY ♪',\n",
       "  'wav': '/data4/music-corpus/yt-best/separated_opus/htdemucs/Xhr3e5y_fvw/vocals.opus',\n",
       "  'dur': 2.200000000000001},\n",
       " {'utt': 'Xhr3e5y_fvw-4',\n",
       "  'start': 12.81,\n",
       "  'end': 16.0,\n",
       "  'text': '♪ WAKE UP TO THE SUNLIGHT , CREEPING THROUGH THE WINDOW ♪',\n",
       "  'wav': '/data4/music-corpus/yt-best/separated_opus/htdemucs/Xhr3e5y_fvw/vocals.opus',\n",
       "  'dur': 3.1899999999999995},\n",
       " {'utt': 'Xhr3e5y_fvw-5',\n",
       "  'start': 16.0,\n",
       "  'end': 17.72,\n",
       "  'text': '♪ GLOWING ON YOUR BODY ♪',\n",
       "  'wav': '/data4/music-corpus/yt-best/separated_opus/htdemucs/Xhr3e5y_fvw/vocals.opus',\n",
       "  'dur': 1.7199999999999989},\n",
       " {'utt': 'Xhr3e5y_fvw-6',\n",
       "  'start': 17.72,\n",
       "  'end': 22.69,\n",
       "  'text': \"♪ CAN WE KEEP IT SIMPLE , I NEED MORE THAN ONE NIGHT , WHAT YOU THINK I'M HERE FOR ♪\",\n",
       "  'wav': '/data4/music-corpus/yt-best/separated_opus/htdemucs/Xhr3e5y_fvw/vocals.opus',\n",
       "  'dur': 4.970000000000002},\n",
       " {'utt': 'Xhr3e5y_fvw-7',\n",
       "  'start': 22.69,\n",
       "  'end': 35.86,\n",
       "  'text': \"♪ YOU KNOW THAT YOU GOT ME , BEAT IS TO THE TEMPO , CAN WE CUT RIGHT TO THE CHASE (CHASE) , I'M SOMEONE WITH COMPLICATED TASTE , <SIL> , YOU CAN FINISH FIRST THIS AIN'T A RACE , <SIL> , IMMA LOCK IT UP ♪\",\n",
       "  'wav': '/data4/music-corpus/yt-best/separated_opus/htdemucs/Xhr3e5y_fvw/vocals.opus',\n",
       "  'dur': 13.169999999999998},\n",
       " {'utt': 'Xhr3e5y_fvw-8',\n",
       "  'start': 35.86,\n",
       "  'end': 37.67,\n",
       "  'text': '♪ GIRL LEAD THE WAY ♪',\n",
       "  'wav': '/data4/music-corpus/yt-best/separated_opus/htdemucs/Xhr3e5y_fvw/vocals.opus',\n",
       "  'dur': 1.8100000000000023},\n",
       " {'utt': 'Xhr3e5y_fvw-9',\n",
       "  'start': 37.67,\n",
       "  'end': 41.8,\n",
       "  'text': \"♪ YOU KNOW WHAT I'M SAYING , GIRL I NOTICE YOU'RE AFRAID ♪\",\n",
       "  'wav': '/data4/music-corpus/yt-best/separated_opus/htdemucs/Xhr3e5y_fvw/vocals.opus',\n",
       "  'dur': 4.1299999999999955},\n",
       " {'utt': 'Xhr3e5y_fvw-10',\n",
       "  'start': 41.8,\n",
       "  'end': 44.8,\n",
       "  'text': '♪ OF LETTING ALL YOUR LOVIN GO TO WASTE ♪',\n",
       "  'wav': '/data4/music-corpus/yt-best/separated_opus/htdemucs/Xhr3e5y_fvw/vocals.opus',\n",
       "  'dur': 3.0},\n",
       " {'utt': 'Xhr3e5y_fvw-11',\n",
       "  'start': 44.8,\n",
       "  'end': 48.04,\n",
       "  'text': '♪ JUST ONE OPEN MIND , IS ALL IT TAKE (IS ALL IT TAKE) ♪',\n",
       "  'wav': '/data4/music-corpus/yt-best/separated_opus/htdemucs/Xhr3e5y_fvw/vocals.opus',\n",
       "  'dur': 3.240000000000002}]"
      ]
     },
     "execution_count": 13,
     "metadata": {},
     "output_type": "execute_result"
    }
   ],
   "source": [
    "clean_datas[:10]"
   ]
  },
  {
   "cell_type": "code",
   "execution_count": 14,
   "id": "e8cb3d79-aedc-4a47-b336-7c8b33662769",
   "metadata": {
    "pycharm": {
     "name": "#%%\n"
    }
   },
   "outputs": [],
   "source": [
    "def get_segment(name,idx,start,end,text_list,wav,dur):\n",
    "    segment = {}\n",
    "    segment['utt'] = name + '-' + str(idx)\n",
    "    segment['start'] = start\n",
    "    segment['end'] = end\n",
    "    segment['text'] = ' '.join(text_list)\n",
    "    segment['wav'] = wav\n",
    "    segment['dur'] = dur\n",
    "    return segment"
   ]
  },
  {
   "cell_type": "code",
   "execution_count": 15,
   "id": "0c84d83d-528f-4d54-b691-81cadf901dc5",
   "metadata": {
    "pycharm": {
     "name": "#%%\n"
    }
   },
   "outputs": [
    {
     "data": {
      "text/plain": [
       "25654"
      ]
     },
     "execution_count": 15,
     "metadata": {},
     "output_type": "execute_result"
    }
   ],
   "source": [
    "music_data = {}\n",
    "\n",
    "for data in clean_datas:\n",
    "    name = '-'.join(data['utt'].split('-')[:-1])\n",
    "    if name not in music_data:\n",
    "        music_data[name] = []\n",
    "    music_data[name].append(data)\n",
    "len(music_data)"
   ]
  },
  {
   "cell_type": "code",
   "execution_count": 28,
   "id": "dbaba83c-bc05-4f58-9da9-d078a62c401e",
   "metadata": {
    "pycharm": {
     "name": "#%%\n"
    }
   },
   "outputs": [],
   "source": [
    "max_duration = 15.0\n",
    "segments = []\n",
    "for name in music_data.keys():\n",
    "    music = music_data[name]\n",
    "    cnt = 0\n",
    "    st = music[0]['start']\n",
    "    ed = music[0]['start']\n",
    "    text = []\n",
    "    wav = music[0]['wav']\n",
    "    duration = 0\n",
    "    for data in music:\n",
    "        start = data['start']\n",
    "        end = data['end']\n",
    "        if (end - start) + duration > max_duration:\n",
    "            if duration > 0:\n",
    "                segments.append(get_segment(name,cnt,st,ed,text,wav,duration))\n",
    "                st = start\n",
    "                ed = start\n",
    "                text = []\n",
    "                cnt += 1\n",
    "                duration = 0\n",
    "            else:\n",
    "                st = start\n",
    "                ed = start\n",
    "                text = []\n",
    "                duration = 0\n",
    "                \n",
    "        if start - ed > 0.5:\n",
    "            if duration > 0:\n",
    "                segments.append(get_segment(name,cnt,st,ed,text,wav,duration))\n",
    "                st = start\n",
    "                ed = start\n",
    "                text = []\n",
    "                cnt += 1\n",
    "                duration = 0\n",
    "            else:\n",
    "                st = start\n",
    "                ed = start\n",
    "                text = []\n",
    "                duration = 0\n",
    "                \n",
    "        \n",
    "        if end - start > max_duration:\n",
    "            segments.append(get_segment(name,cnt,start,start+max_duration,[data['text']],wav,max_duration))\n",
    "            st = end\n",
    "            ed = end\n",
    "            text = []\n",
    "            cnt += 1\n",
    "            duration = 0\n",
    "        else:\n",
    "            if duration == 0:\n",
    "                st = start\n",
    "                ed = end\n",
    "                text.append(data['text'])\n",
    "                duration += (end-start)\n",
    "            else:\n",
    "                st = st\n",
    "                ed = end\n",
    "                text.append(data['text'])\n",
    "                duration += (end-start)\n",
    "            \n",
    "    if duration > 1.0:\n",
    "        segments.append(get_segment(name,cnt,st,ed,text,wav,duration))"
   ]
  },
  {
   "cell_type": "code",
   "execution_count": 29,
   "id": "8efabbeb-21e2-46ba-a06c-43f5d64771fb",
   "metadata": {
    "pycharm": {
     "name": "#%%\n"
    }
   },
   "outputs": [
    {
     "data": {
      "text/plain": [
       "368633"
      ]
     },
     "execution_count": 29,
     "metadata": {},
     "output_type": "execute_result"
    }
   ],
   "source": [
    "len(segments)"
   ]
  },
  {
   "cell_type": "code",
   "execution_count": 30,
   "id": "0e5cd94e-bc35-4052-b5e8-086150a9e2f3",
   "metadata": {
    "pycharm": {
     "name": "#%%\n"
    }
   },
   "outputs": [
    {
     "data": {
      "image/png": "[encoded data removed]",
      "text/plain": [
       "<Figure size 640x480 with 1 Axes>"
      ]
     },
     "metadata": {},
     "output_type": "display_data"
    }
   ],
   "source": [
    "import matplotlib.pyplot as plt\n",
    "import numpy as np\n",
    "time = []\n",
    "for segment in segments:\n",
    "    time.append(segment['dur'])\n",
    "\n",
    "# 生成一组随机数据\n",
    "time = np.array(time)\n",
    "\n",
    "# 绘制直方图\n",
    "plt.hist(time, bins=15, color='skyblue', alpha=0.8)\n",
    "\n",
    "\n",
    "# 显示图表\n",
    "plt.show()"
   ]
  },
  {
   "cell_type": "code",
   "execution_count": null,
   "id": "45265fea-4f4b-4a0f-9e9f-921847c3868e",
   "metadata": {
    "pycharm": {
     "name": "#%%\n"
    }
   },
   "outputs": [],
   "source": []
  }
 ],
 "metadata": {
  "kernelspec": {
   "display_name": "Python 3 (ipykernel)",
   "language": "python",
   "name": "python3"
  },
  "language_info": {
   "codemirror_mode": {
    "name": "ipython",
    "version": 3
   },
   "file_extension": ".py",
   "mimetype": "text/x-python",
   "name": "python",
   "nbconvert_exporter": "python",
   "pygments_lexer": "ipython3",
   "version": "3.9.17"
  }
 },
 "nbformat": 4,
 "nbformat_minor": 5
}